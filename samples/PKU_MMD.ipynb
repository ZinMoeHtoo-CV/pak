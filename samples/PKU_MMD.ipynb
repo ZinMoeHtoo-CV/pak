{
 "cells": [
  {
   "cell_type": "markdown",
   "metadata": {},
   "source": [
    "# PKU-MMD\n",
    "\n",
    "http://www.icst.pku.edu.cn/struct/Projects/PKUMMD.html"
   ]
  },
  {
   "cell_type": "code",
   "execution_count": 1,
   "metadata": {},
   "outputs": [],
   "source": [
    "%matplotlib inline\n",
    "import matplotlib.pyplot as plt\n",
    "from mpl_toolkits.mplot3d import Axes3D\n",
    "import json; from pprint import pprint\n",
    "Settings = json.load(open('settings.txt'))\n",
    "import matplotlib.pyplot as plt\n",
    "import numpy as np\n",
    "import sys\n",
    "sys.path.insert(0,'../')\n",
    "from os.path import isdir\n",
    "\n",
    "root = Settings['data_root']\n",
    "\n",
    "from pak.datasets.PKU_MMD import PKU_MMD, plot_skeleton\n",
    "\n",
    "data = PKU_MMD(root)\n",
    "\n",
    "#data.train_videos\n",
    "\n",
    "skel1, skel2, labels = data.get_3d('0075-L')\n",
    "skel1_, skel2_, labels_ = data.get_3d('0075-L')"
   ]
  },
  {
   "cell_type": "code",
   "execution_count": 6,
   "metadata": {},
   "outputs": [],
   "source": [
    "# for l in PKU_MMD.single_humans_by_pid():\n",
    "#     for vid in l:\n",
    "#         print('load ', vid)\n",
    "#         data.get_3d(vid)"
   ]
  },
  {
   "cell_type": "code",
   "execution_count": null,
   "metadata": {},
   "outputs": [],
   "source": [
    "def isclose(a, b, rel_tol=1e-09, abs_tol=0.0):\n",
    "    return abs(a-b) <= max(rel_tol * max(abs(a), abs(b)), abs_tol)\n",
    "\n",
    "s1 = skel1[0]\n",
    "s2 = skel2[0]\n",
    "\n",
    "\n",
    "fig = plt.figure(figsize=(12, 12))\n",
    "R = 1\n",
    "ax = fig.add_subplot(111, projection='3d')\n",
    "ax.set_xlim(-R, R); ax.set_xlabel('x')\n",
    "ax.set_ylim(-2-R*2, 0); ax.set_ylabel('y')\n",
    "ax.set_zlim(-R, R); ax.set_zlabel('z')\n",
    "\n",
    "\n",
    "plot_skeleton(ax, s1)\n",
    "\n",
    "if not isclose(np.mean(np.abs(skel2)), 0):\n",
    "    plot_skeleton(ax, s2)\n",
    "\n",
    "plt.show()"
   ]
  },
  {
   "cell_type": "code",
   "execution_count": null,
   "metadata": {},
   "outputs": [],
   "source": [
    "img_L = data.get_frame('0116-L', 1)\n",
    "img_R = data.get_frame('0116-R', 1)\n",
    "img_M = data.get_frame('0116-M', 1)\n",
    "\n",
    "\n",
    "fig = plt.figure(figsize=(16, 6))\n",
    "ax = fig.add_subplot(131); ax.axis('off')\n",
    "ax.imshow(img_L)\n",
    "ax = fig.add_subplot(132); ax.axis('off')\n",
    "ax.imshow(img_M)\n",
    "ax = fig.add_subplot(133); ax.axis('off')\n",
    "ax.imshow(img_R)\n",
    "plt.show()"
   ]
  },
  {
   "cell_type": "code",
   "execution_count": null,
   "metadata": {},
   "outputs": [],
   "source": [
    "from poseestimation import model\n",
    "\n",
    "pe = model.PoseEstimator()\n",
    "I = np.array([\n",
    "    img_L, img_M, img_R\n",
    "], np.uint8)\n",
    "heatmaps, pafs = pe.predict_pafs_and_heatmaps(I)"
   ]
  },
  {
   "cell_type": "code",
   "execution_count": null,
   "metadata": {},
   "outputs": [],
   "source": [
    "def mask(im, hm):\n",
    "    H = np.clip(hm, a_min=0, a_max=1)\n",
    "    im_reduced = im.copy()\n",
    "    im_reduced[:, :, 0] = im[:, :, 0] * H\n",
    "    im_reduced[:, :, 1] = im[:, :, 1] * H\n",
    "    im_reduced[:, :, 2] = im[:, :, 2] * H\n",
    "    return im_reduced\n",
    "\n",
    "\n",
    "hm1 = heatmaps[0]\n",
    "hm2 = heatmaps[1]\n",
    "hm3 = heatmaps[2]\n",
    "\n",
    "fig = plt.figure(figsize=(16, 30))\n",
    "ax = fig.add_subplot(311); ax.axis('off')\n",
    "ax.imshow(mask(img_L, np.amax(hm1[:, :, 0:18], axis=2)))\n",
    "ax = fig.add_subplot(312); ax.axis('off')\n",
    "ax.imshow(mask(img_M, np.amax(hm2[:, :, 0:18], axis=2)))\n",
    "ax = fig.add_subplot(313); ax.axis('off')\n",
    "ax.imshow(mask(img_R, np.amax(hm3[:, :, 0:18], axis=2)))\n",
    "plt.show()"
   ]
  }
 ],
 "metadata": {
  "kernelspec": {
   "display_name": "Python 3",
   "language": "python",
   "name": "python3"
  },
  "language_info": {
   "codemirror_mode": {
    "name": "ipython",
    "version": 3
   },
   "file_extension": ".py",
   "mimetype": "text/x-python",
   "name": "python",
   "nbconvert_exporter": "python",
   "pygments_lexer": "ipython3",
   "version": "3.6.7"
  }
 },
 "nbformat": 4,
 "nbformat_minor": 2
}
