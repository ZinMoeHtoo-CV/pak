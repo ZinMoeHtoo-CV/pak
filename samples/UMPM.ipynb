{
 "cells": [
  {
   "cell_type": "markdown",
   "metadata": {},
   "source": [
    "# Utrecht Multi-Person Motion Benchmark\n",
    "\n",
    "Dataset: http://www.projects.science.uu.nl/umpm/data/data.shtml"
   ]
  },
  {
   "cell_type": "code",
   "execution_count": null,
   "metadata": {},
   "outputs": [
    {
     "name": "stdout",
     "output_type": "stream",
     "text": [
      "UMPM\n",
      "ZIP: True\n",
      "ZIP: True\n",
      "unzipping /storage/DATA/pak/umpm/p1_grab_3/p1_grab_3.zip\n"
     ]
    }
   ],
   "source": [
    "%matplotlib inline\n",
    "import matplotlib.pyplot as plt\n",
    "import numpy as np\n",
    "import sys\n",
    "sys.path.insert(0,'../')\n",
    "from pak import utils\n",
    "from pak.datasets.UMPM import UMPM\n",
    "import matplotlib.pyplot as plt\n",
    "import itertools\n",
    "from pak.util import download\n",
    "\n",
    "root = '/storage/DATA/pak'\n",
    "\n",
    "#url = 'http://umpm-mirror.cs.uu.nl/download/p1_chair_2-new.zip'\n",
    "user = 'umpmuser'; pwd = 'ahJaka4o'\n",
    "\n",
    "\n",
    "#download.download_with_login(url, root, user, pwd)\n",
    "\n",
    "mpm = UMPM(root, user, pwd)"
   ]
  }
 ],
 "metadata": {
  "kernelspec": {
   "display_name": "Python 3",
   "language": "python",
   "name": "python3"
  },
  "language_info": {
   "codemirror_mode": {
    "name": "ipython",
    "version": 3
   },
   "file_extension": ".py",
   "mimetype": "text/x-python",
   "name": "python",
   "nbconvert_exporter": "python",
   "pygments_lexer": "ipython3",
   "version": "3.6.4"
  }
 },
 "nbformat": 4,
 "nbformat_minor": 2
}
