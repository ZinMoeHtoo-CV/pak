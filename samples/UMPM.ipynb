{
 "cells": [
  {
   "cell_type": "markdown",
   "metadata": {},
   "source": [
    "# Utrecht Multi-Person Motion Benchmark\n",
    "\n",
    "Dataset: http://www.projects.science.uu.nl/umpm/data/data.shtml"
   ]
  },
  {
   "cell_type": "code",
   "execution_count": 1,
   "metadata": {},
   "outputs": [
    {
     "name": "stdout",
     "output_type": "stream",
     "text": [
      "{'data_root': '/media/julian/Maxtor/DATA/pak/'}\n",
      "UMPM\n",
      "unzipping /media/julian/Maxtor/DATA/pak/umpm/p1_grab_3/p1_grab_3.zip\n"
     ]
    },
    {
     "ename": "FileNotFoundError",
     "evalue": "[Errno 2] No such file or directory: '/media/julian/Maxtor/DATA/pak/umpm/p1_grab_3/p1_grab_3.zip'",
     "output_type": "error",
     "traceback": [
      "\u001b[0;31m---------------------------------------------------------------------------\u001b[0m",
      "\u001b[0;31mFileNotFoundError\u001b[0m                         Traceback (most recent call last)",
      "\u001b[0;32m<ipython-input-1-4d00f586dffe>\u001b[0m in \u001b[0;36m<module>\u001b[0;34m()\u001b[0m\n\u001b[1;32m     24\u001b[0m \u001b[0;31m#download.download_with_login(url, root, user, pwd)\u001b[0m\u001b[0;34m\u001b[0m\u001b[0;34m\u001b[0m\u001b[0m\n\u001b[1;32m     25\u001b[0m \u001b[0;34m\u001b[0m\u001b[0m\n\u001b[0;32m---> 26\u001b[0;31m \u001b[0mmpm\u001b[0m \u001b[0;34m=\u001b[0m \u001b[0mUMPM\u001b[0m\u001b[0;34m(\u001b[0m\u001b[0mroot\u001b[0m\u001b[0;34m,\u001b[0m \u001b[0muser\u001b[0m\u001b[0;34m,\u001b[0m \u001b[0mpwd\u001b[0m\u001b[0;34m)\u001b[0m\u001b[0;34m\u001b[0m\u001b[0m\n\u001b[0m\u001b[1;32m     27\u001b[0m \u001b[0;34m\u001b[0m\u001b[0m\n\u001b[1;32m     28\u001b[0m \u001b[0;34m\u001b[0m\u001b[0m\n",
      "\u001b[0;32m~/Dev/pak/pak/datasets/UMPM.py\u001b[0m in \u001b[0;36m__init__\u001b[0;34m(self, root, username, password, verbose)\u001b[0m\n\u001b[1;32m     47\u001b[0m                 \u001b[0;31m# is not unzipped\u001b[0m\u001b[0;34m\u001b[0m\u001b[0;34m\u001b[0m\u001b[0m\n\u001b[1;32m     48\u001b[0m                 \u001b[0mutils\u001b[0m\u001b[0;34m.\u001b[0m\u001b[0mtalk\u001b[0m\u001b[0;34m(\u001b[0m\u001b[0;34m\"unzipping \"\u001b[0m \u001b[0;34m+\u001b[0m \u001b[0mfzip\u001b[0m\u001b[0;34m,\u001b[0m \u001b[0mverbose\u001b[0m\u001b[0;34m)\u001b[0m\u001b[0;34m\u001b[0m\u001b[0m\n\u001b[0;32m---> 49\u001b[0;31m                 \u001b[0munzip\u001b[0m\u001b[0;34m.\u001b[0m\u001b[0munzip\u001b[0m\u001b[0;34m(\u001b[0m\u001b[0mfzip\u001b[0m\u001b[0;34m,\u001b[0m \u001b[0mcur_loc\u001b[0m\u001b[0;34m,\u001b[0m \u001b[0mdel_after_unzip\u001b[0m\u001b[0;34m=\u001b[0m\u001b[0;32mTrue\u001b[0m\u001b[0;34m)\u001b[0m\u001b[0;34m\u001b[0m\u001b[0m\n\u001b[0m\u001b[1;32m     50\u001b[0m \u001b[0;34m\u001b[0m\u001b[0m\n\u001b[1;32m     51\u001b[0m             \u001b[0mvideo_loc\u001b[0m \u001b[0;34m=\u001b[0m \u001b[0mjoin\u001b[0m\u001b[0;34m(\u001b[0m\u001b[0mcur_loc\u001b[0m\u001b[0;34m,\u001b[0m \u001b[0;34m'Video'\u001b[0m\u001b[0;34m)\u001b[0m\u001b[0;34m\u001b[0m\u001b[0m\n",
      "\u001b[0;32m~/Dev/pak/pak/util/unzip.py\u001b[0m in \u001b[0;36munzip\u001b[0;34m(fzip, export_folder, verbose, force_os_tools, del_after_unzip)\u001b[0m\n\u001b[1;32m     64\u001b[0m             \u001b[0;32mtry\u001b[0m\u001b[0;34m:\u001b[0m\u001b[0;34m\u001b[0m\u001b[0m\n\u001b[1;32m     65\u001b[0m                 \u001b[0mutils\u001b[0m\u001b[0;34m.\u001b[0m\u001b[0mtalk\u001b[0m\u001b[0;34m(\u001b[0m\u001b[0;34m\"unzip \"\u001b[0m \u001b[0;34m+\u001b[0m \u001b[0mfzip\u001b[0m \u001b[0;34m+\u001b[0m \u001b[0;34m\" -> \"\u001b[0m \u001b[0;34m+\u001b[0m \u001b[0mexport_folder\u001b[0m\u001b[0;34m,\u001b[0m \u001b[0mverbose\u001b[0m\u001b[0;34m)\u001b[0m\u001b[0;34m\u001b[0m\u001b[0m\n\u001b[0;32m---> 66\u001b[0;31m                 \u001b[0mzip_ref\u001b[0m \u001b[0;34m=\u001b[0m \u001b[0mzipfile\u001b[0m\u001b[0;34m.\u001b[0m\u001b[0mZipFile\u001b[0m\u001b[0;34m(\u001b[0m\u001b[0mfzip\u001b[0m\u001b[0;34m,\u001b[0m \u001b[0;34m'r'\u001b[0m\u001b[0;34m)\u001b[0m\u001b[0;34m\u001b[0m\u001b[0m\n\u001b[0m\u001b[1;32m     67\u001b[0m                 \u001b[0mzip_ref\u001b[0m\u001b[0;34m.\u001b[0m\u001b[0mextractall\u001b[0m\u001b[0;34m(\u001b[0m\u001b[0mexport_folder\u001b[0m\u001b[0;34m)\u001b[0m\u001b[0;34m\u001b[0m\u001b[0m\n\u001b[1;32m     68\u001b[0m                 \u001b[0mzip_ref\u001b[0m\u001b[0;34m.\u001b[0m\u001b[0mclose\u001b[0m\u001b[0;34m(\u001b[0m\u001b[0;34m)\u001b[0m\u001b[0;34m\u001b[0m\u001b[0m\n",
      "\u001b[0;32m~/anaconda3/lib/python3.6/zipfile.py\u001b[0m in \u001b[0;36m__init__\u001b[0;34m(self, file, mode, compression, allowZip64)\u001b[0m\n\u001b[1;32m   1088\u001b[0m             \u001b[0;32mwhile\u001b[0m \u001b[0;32mTrue\u001b[0m\u001b[0;34m:\u001b[0m\u001b[0;34m\u001b[0m\u001b[0m\n\u001b[1;32m   1089\u001b[0m                 \u001b[0;32mtry\u001b[0m\u001b[0;34m:\u001b[0m\u001b[0;34m\u001b[0m\u001b[0m\n\u001b[0;32m-> 1090\u001b[0;31m                     \u001b[0mself\u001b[0m\u001b[0;34m.\u001b[0m\u001b[0mfp\u001b[0m \u001b[0;34m=\u001b[0m \u001b[0mio\u001b[0m\u001b[0;34m.\u001b[0m\u001b[0mopen\u001b[0m\u001b[0;34m(\u001b[0m\u001b[0mfile\u001b[0m\u001b[0;34m,\u001b[0m \u001b[0mfilemode\u001b[0m\u001b[0;34m)\u001b[0m\u001b[0;34m\u001b[0m\u001b[0m\n\u001b[0m\u001b[1;32m   1091\u001b[0m                 \u001b[0;32mexcept\u001b[0m \u001b[0mOSError\u001b[0m\u001b[0;34m:\u001b[0m\u001b[0;34m\u001b[0m\u001b[0m\n\u001b[1;32m   1092\u001b[0m                     \u001b[0;32mif\u001b[0m \u001b[0mfilemode\u001b[0m \u001b[0;32min\u001b[0m \u001b[0mmodeDict\u001b[0m\u001b[0;34m:\u001b[0m\u001b[0;34m\u001b[0m\u001b[0m\n",
      "\u001b[0;31mFileNotFoundError\u001b[0m: [Errno 2] No such file or directory: '/media/julian/Maxtor/DATA/pak/umpm/p1_grab_3/p1_grab_3.zip'"
     ]
    }
   ],
   "source": [
    "import json; from pprint import pprint\n",
    "Settings = json.load(open('settings.txt'))\n",
    "pprint(Settings)\n",
    "\n",
    "%matplotlib inline\n",
    "import matplotlib.pyplot as plt\n",
    "import numpy as np\n",
    "import sys\n",
    "sys.path.insert(0,'../')\n",
    "from pak import utils\n",
    "from pak.datasets.UMPM import UMPM\n",
    "import matplotlib.pyplot as plt\n",
    "import itertools\n",
    "from pak.util import download\n",
    "from time import time\n",
    "\n",
    "#root = '/storage/DATA/pak'\n",
    "root = Settings['data_root']\n",
    "\n",
    "#url = 'http://umpm-mirror.cs.uu.nl/download/p1_chair_2-new.zip'\n",
    "user = 'umpmuser'; pwd = 'ahJaka4o'\n",
    "\n",
    "\n",
    "#download.download_with_login(url, root, user, pwd)\n",
    "\n",
    "mpm = UMPM(root, user, pwd)\n",
    "\n",
    "\n",
    "_start = time()\n",
    "X = mpm.get_data('p1_grab_3')\n",
    "_end = time()\n",
    "print('elapsed', _end - _start)"
   ]
  },
  {
   "cell_type": "code",
   "execution_count": null,
   "metadata": {},
   "outputs": [],
   "source": [
    "# from os import makedirs, listdir\n",
    "# from os.path import join, isfile, isdir, exists, splitext\n",
    "# import cv2\n",
    "\n",
    "# loc = '/storage/DATA/pak/umpm'\n",
    "# for f in UMPM.get_file_list():\n",
    "#     cur_loc = join(loc, f); assert isdir(cur_loc)\n",
    "#     video_loc = join(cur_loc, 'Video'); assert isdir(video_loc)\n",
    "#     for cam in ['_f.avi', '_l.avi', '_r.avi', '_s.avi']:\n",
    "#         avi = join(video_loc, f + cam); assert isfile(avi)\n",
    "        \n",
    "#         cap = cv2.VideoCapture(avi)\n",
    "#         video = []\n",
    "#         i = 0\n",
    "#         while True:\n",
    "#             valid, frame = cap.read()\n",
    "#             if not valid:\n",
    "#                 break\n",
    "#             video.append(frame)\n",
    "#             i = i + 1\n",
    "\n",
    "#         #V = np.array(video)\n",
    "#         #shape = V.shape\n",
    "#         #print(avi, shape)\n",
    "#         #del V\n",
    "#         print(avi)\n",
    "#         print(len(video))\n",
    "#         print(video[0].shape)\n",
    "#         print('\\n')\n",
    "#         del video\n",
    "        "
   ]
  }
 ],
 "metadata": {
  "kernelspec": {
   "display_name": "Python 3",
   "language": "python",
   "name": "python3"
  },
  "language_info": {
   "codemirror_mode": {
    "name": "ipython",
    "version": 3
   },
   "file_extension": ".py",
   "mimetype": "text/x-python",
   "name": "python",
   "nbconvert_exporter": "python",
   "pygments_lexer": "ipython3",
   "version": "3.6.4"
  }
 },
 "nbformat": 4,
 "nbformat_minor": 2
}
