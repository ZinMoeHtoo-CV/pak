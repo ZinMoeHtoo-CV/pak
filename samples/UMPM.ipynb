{
 "cells": [
  {
   "cell_type": "markdown",
   "metadata": {},
   "source": [
    "# Utrecht Multi-Person Motion Benchmark\n",
    "\n",
    "Dataset: http://www.projects.science.uu.nl/umpm/data/data.shtml"
   ]
  },
  {
   "cell_type": "code",
   "execution_count": 3,
   "metadata": {},
   "outputs": [
    {
     "name": "stdout",
     "output_type": "stream",
     "text": [
      "{'data_root': '/media/julian/Maxtor/DATA/pak/'}\n",
      "UMPM\n",
      "elapsed 0.0012307167053222656\n"
     ]
    }
   ],
   "source": [
    "import json; from pprint import pprint\n",
    "Settings = json.load(open('settings.txt'))\n",
    "pprint(Settings)\n",
    "\n",
    "%matplotlib inline\n",
    "import matplotlib.pyplot as plt\n",
    "import numpy as np\n",
    "import sys\n",
    "sys.path.insert(0,'../')\n",
    "from pak import utils\n",
    "from pak.datasets.UMPM import UMPM\n",
    "import matplotlib.pyplot as plt\n",
    "import itertools\n",
    "from pak.util import download\n",
    "from time import time\n",
    "\n",
    "root = Settings['data_root']\n",
    "\n",
    "user = 'umpmuser'; pwd = 'ahJaka4o'\n",
    "\n",
    "mpm = UMPM(root, user, pwd)\n",
    "\n",
    "\n",
    "_start = time()\n",
    "X = mpm.get_data('p1_grab_3')\n",
    "_end = time()\n",
    "print('elapsed', _end - _start)"
   ]
  },
  {
   "cell_type": "code",
   "execution_count": 2,
   "metadata": {},
   "outputs": [],
   "source": [
    "# from os import makedirs, listdir\n",
    "# from os.path import join, isfile, isdir, exists, splitext\n",
    "# import cv2\n",
    "\n",
    "# loc = '/storage/DATA/pak/umpm'\n",
    "# for f in UMPM.get_file_list():\n",
    "#     cur_loc = join(loc, f); assert isdir(cur_loc)\n",
    "#     video_loc = join(cur_loc, 'Video'); assert isdir(video_loc)\n",
    "#     for cam in ['_f.avi', '_l.avi', '_r.avi', '_s.avi']:\n",
    "#         avi = join(video_loc, f + cam); assert isfile(avi)\n",
    "        \n",
    "#         cap = cv2.VideoCapture(avi)\n",
    "#         video = []\n",
    "#         i = 0\n",
    "#         while True:\n",
    "#             valid, frame = cap.read()\n",
    "#             if not valid:\n",
    "#                 break\n",
    "#             video.append(frame)\n",
    "#             i = i + 1\n",
    "\n",
    "#         #V = np.array(video)\n",
    "#         #shape = V.shape\n",
    "#         #print(avi, shape)\n",
    "#         #del V\n",
    "#         print(avi)\n",
    "#         print(len(video))\n",
    "#         print(video[0].shape)\n",
    "#         print('\\n')\n",
    "#         del video\n",
    "        "
   ]
  }
 ],
 "metadata": {
  "kernelspec": {
   "display_name": "Python 3",
   "language": "python",
   "name": "python3"
  },
  "language_info": {
   "codemirror_mode": {
    "name": "ipython",
    "version": 3
   },
   "file_extension": ".py",
   "mimetype": "text/x-python",
   "name": "python",
   "nbconvert_exporter": "python",
   "pygments_lexer": "ipython3",
   "version": "3.6.4"
  }
 },
 "nbformat": 4,
 "nbformat_minor": 2
}
