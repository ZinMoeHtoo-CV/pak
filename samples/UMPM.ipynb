{
 "cells": [
  {
   "cell_type": "markdown",
   "metadata": {},
   "source": [
    "# Utrecht Multi-Person Motion Benchmark\n",
    "\n",
    "Dataset: http://www.projects.science.uu.nl/umpm/data/data.shtml"
   ]
  },
  {
   "cell_type": "code",
   "execution_count": 1,
   "metadata": {},
   "outputs": [
    {
     "name": "stdout",
     "output_type": "stream",
     "text": [
      "UMPM\n",
      "unzipping video /storage/DATA/pak/umpm/p1_grab_3/Video/p1_grab_3_f.avi.xz\n",
      "unzipping video /storage/DATA/pak/umpm/p1_grab_3/Video/p1_grab_3_r.avi.xz\n",
      "unzipping video /storage/DATA/pak/umpm/p1_grab_3/Video/p1_grab_3_l.avi.xz\n",
      "unzipping video /storage/DATA/pak/umpm/p1_orthosyn_1/Video/p1_orthosyn_1_f.avi.xz\n",
      "unzipping video /storage/DATA/pak/umpm/p1_orthosyn_1/Video/p1_orthosyn_1_l.avi.xz\n",
      "unzipping video /storage/DATA/pak/umpm/p1_orthosyn_1/Video/p1_orthosyn_1_s.avi.xz\n",
      "unzipping video /storage/DATA/pak/umpm/p1_orthosyn_1/Video/p1_orthosyn_1_r.avi.xz\n",
      "unzipping video /storage/DATA/pak/umpm/p1_table_2/Video/p1_table_2_f.avi.xz\n",
      "unzipping video /storage/DATA/pak/umpm/p1_table_2/Video/p1_table_2_l.avi.xz\n",
      "unzipping video /storage/DATA/pak/umpm/p1_table_2/Video/p1_table_2_r.avi.xz\n",
      "unzipping video /storage/DATA/pak/umpm/p1_table_2/Video/p1_table_2_s.avi.xz\n",
      "unzipping video /storage/DATA/pak/umpm/p1_triangle_1/Video/p1_triangle_1_f.avi.xz\n",
      "unzipping video /storage/DATA/pak/umpm/p1_triangle_1/Video/p1_triangle_1_s.avi.xz\n",
      "unzipping video /storage/DATA/pak/umpm/p1_triangle_1/Video/p1_triangle_1_r.avi.xz\n",
      "unzipping video /storage/DATA/pak/umpm/p1_triangle_1/Video/p1_triangle_1_l.avi.xz\n",
      "unzipping video /storage/DATA/pak/umpm/p2_ball_1/Video/p2_ball_1_r.avi.xz\n",
      "unzipping video /storage/DATA/pak/umpm/p2_ball_1/Video/p2_ball_1_f.avi.xz\n",
      "unzipping video /storage/DATA/pak/umpm/p2_ball_1/Video/p2_ball_1_s.avi.xz\n",
      "unzipping video /storage/DATA/pak/umpm/p2_ball_1/Video/p2_ball_1_l.avi.xz\n",
      "unzipping video /storage/DATA/pak/umpm/p2_chair_1/Video/p2_chair_1_r.avi.xz\n",
      "unzipping video /storage/DATA/pak/umpm/p2_chair_1/Video/p2_chair_1_s.avi.xz\n",
      "unzipping video /storage/DATA/pak/umpm/p2_chair_1/Video/p2_chair_1_l.avi.xz\n",
      "unzipping video /storage/DATA/pak/umpm/p2_chair_1/Video/p2_chair_1_f.avi.xz\n",
      "unzipping video /storage/DATA/pak/umpm/p2_chair_2/Video/p2_chair_2_f.avi.xz\n",
      "unzipping video /storage/DATA/pak/umpm/p2_chair_2/Video/p2_chair_2_l.avi.xz\n",
      "unzipping video /storage/DATA/pak/umpm/p2_chair_2/Video/p2_chair_2_s.avi.xz\n",
      "unzipping video /storage/DATA/pak/umpm/p2_chair_2/Video/p2_chair_2_r.avi.xz\n",
      "unzipping video /storage/DATA/pak/umpm/p2_circle_01/Video/p2_circle_01_r.avi.xz\n",
      "unzipping video /storage/DATA/pak/umpm/p2_circle_01/Video/p2_circle_01_s.avi.xz\n",
      "unzipping video /storage/DATA/pak/umpm/p2_circle_01/Video/p2_circle_01_f.avi.xz\n",
      "unzipping video /storage/DATA/pak/umpm/p2_circle_01/Video/p2_circle_01_l.avi.xz\n",
      "unzipping video /storage/DATA/pak/umpm/p2_free_1/Video/p2_free_1_r.avi.xz\n",
      "unzipping video /storage/DATA/pak/umpm/p2_free_1/Video/p2_free_1_l.avi.xz\n",
      "unzipping video /storage/DATA/pak/umpm/p2_free_1/Video/p2_free_1_f.avi.xz\n",
      "unzipping video /storage/DATA/pak/umpm/p2_free_1/Video/p2_free_1_s.avi.xz\n",
      "unzipping video /storage/DATA/pak/umpm/p2_free_2/Video/p2_free_2_r.avi.xz\n",
      "unzipping video /storage/DATA/pak/umpm/p2_free_2/Video/p2_free_2_f.avi.xz\n",
      "unzipping video /storage/DATA/pak/umpm/p2_free_2/Video/p2_free_2_l.avi.xz\n",
      "unzipping video /storage/DATA/pak/umpm/p2_free_2/Video/p2_free_2_s.avi.xz\n",
      "unzipping video /storage/DATA/pak/umpm/p2_grab_1/Video/p2_grab_1_r.avi.xz\n",
      "unzipping video /storage/DATA/pak/umpm/p2_grab_1/Video/p2_grab_1_f.avi.xz\n",
      "unzipping video /storage/DATA/pak/umpm/p2_grab_1/Video/p2_grab_1_l.avi.xz\n",
      "unzipping video /storage/DATA/pak/umpm/p2_grab_1/Video/p2_grab_1_s.avi.xz\n",
      "unzipping video /storage/DATA/pak/umpm/p2_grab_2/Video/p2_grab_2_l.avi.xz\n",
      "unzipping video /storage/DATA/pak/umpm/p2_grab_2/Video/p2_grab_2_f.avi.xz\n",
      "unzipping video /storage/DATA/pak/umpm/p2_grab_2/Video/p2_grab_2_r.avi.xz\n",
      "unzipping video /storage/DATA/pak/umpm/p2_grab_2/Video/p2_grab_2_s.avi.xz\n"
     ]
    }
   ],
   "source": [
    "%matplotlib inline\n",
    "import matplotlib.pyplot as plt\n",
    "import numpy as np\n",
    "import sys\n",
    "sys.path.insert(0,'../')\n",
    "from pak import utils\n",
    "from pak.datasets.UMPM import UMPM\n",
    "import matplotlib.pyplot as plt\n",
    "import itertools\n",
    "from pak.util import download\n",
    "\n",
    "root = '/storage/DATA/pak'\n",
    "\n",
    "#url = 'http://umpm-mirror.cs.uu.nl/download/p1_chair_2-new.zip'\n",
    "user = 'umpmuser'; pwd = 'ahJaka4o'\n",
    "\n",
    "\n",
    "#download.download_with_login(url, root, user, pwd)\n",
    "\n",
    "mpm = UMPM(root, user, pwd)"
   ]
  }
 ],
 "metadata": {
  "kernelspec": {
   "display_name": "Python 3",
   "language": "python",
   "name": "python3"
  },
  "language_info": {
   "codemirror_mode": {
    "name": "ipython",
    "version": 3
   },
   "file_extension": ".py",
   "mimetype": "text/x-python",
   "name": "python",
   "nbconvert_exporter": "python",
   "pygments_lexer": "ipython3",
   "version": "3.6.4"
  }
 },
 "nbformat": 4,
 "nbformat_minor": 2
}
