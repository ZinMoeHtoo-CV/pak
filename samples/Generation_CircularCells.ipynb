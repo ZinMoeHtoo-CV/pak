{
 "cells": [
  {
   "cell_type": "code",
   "execution_count": 8,
   "metadata": {},
   "outputs": [
    {
     "data": {
      "image/png": "[encoded data removed]",
      "text/plain": [
       "<matplotlib.figure.Figure at 0x7f8c64c141d0>"
      ]
     },
     "metadata": {},
     "output_type": "display_data"
    }
   ],
   "source": [
    "%matplotlib inline\n",
    "import matplotlib.pyplot as plt\n",
    "import sys\n",
    "sys.path.insert(0,'../')\n",
    "from pak.artificial_datasets import CircularCells\n",
    "import numpy as np\n",
    "\n",
    "cells = CircularCells.CircularCells(400, 400)\n",
    "\n",
    "\n",
    "def get_random_img(w, h, bg_intensity=0):\n",
    "    I = np.ones((h,w))\n",
    "    I *= bg_intensity\n",
    "    \n",
    "    # add color\n",
    "    \n",
    "    \n",
    "    \n",
    "    return I\n",
    "\n",
    "\n",
    "I = get_random_img(800, 600, bg_intensity=120)\n",
    "\n",
    "plt.imshow(I, vmin=0, vmax=255)\n",
    "plt.show()"
   ]
  }
 ],
 "metadata": {
  "kernelspec": {
   "display_name": "Python 3",
   "language": "python",
   "name": "python3"
  },
  "language_info": {
   "codemirror_mode": {
    "name": "ipython",
    "version": 3
   },
   "file_extension": ".py",
   "mimetype": "text/x-python",
   "name": "python",
   "nbconvert_exporter": "python",
   "pygments_lexer": "ipython3",
   "version": "3.6.4"
  }
 },
 "nbformat": 4,
 "nbformat_minor": 2
}
