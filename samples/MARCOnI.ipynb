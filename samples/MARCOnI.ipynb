{
 "cells": [
  {
   "cell_type": "markdown",
   "metadata": {},
   "source": [
    "# MARCOnI\n",
    "\n",
    "Original website: http://marconi.mpi-inf.mpg.de "
   ]
  },
  {
   "cell_type": "code",
   "execution_count": 1,
   "metadata": {
    "scrolled": false
   },
   "outputs": [
    {
     "name": "stdout",
     "output_type": "stream",
     "text": [
      "/home/julian/Data/pak_test1/marconi/Soccer/Images found :)\n",
      "/home/julian/Data/pak_test1/marconi/Soccer/CNN_Detections found :)\n",
      "File /home/julian/Data/pak_test1/marconi/Soccer/Annotations.mat found :)\n",
      "File /home/julian/Data/pak_test1/marconi/Soccer/Calibration.dat found :)\n",
      "/home/julian/Data/pak_test1/marconi/Kickbox/Images found :)\n",
      "/home/julian/Data/pak_test1/marconi/Kickbox/CNN_Detections found :)\n",
      "File /home/julian/Data/pak_test1/marconi/Kickbox/Annotations.mat found :)\n",
      "File /home/julian/Data/pak_test1/marconi/Kickbox/Calibration.dat found :)\n",
      "/home/julian/Data/pak_test1/marconi/SBoard/Images found :)\n",
      "could not find folder /home/julian/Data/pak_test1/marconi/SBoard/CNN_Detections...\n",
      "could not find file /home/julian/Data/pak_test1/marconi/SBoard/CNN_Detections.zip\n",
      "download from http://resources.mpi-inf.mpg.de/marconi/Data/SBoard/CNN_Detections.zip\n",
      "http://resources.mpi-inf.mpg.de/marconi/Data/SBoard/CNN_Detections.zip downloaded..\n",
      "unzip /home/julian/Data/pak_test1/marconi/SBoard/CNN_Detections.zip -> /home/julian/Data/pak_test1/marconi/SBoard\n",
      "Could not find /home/julian/Data/pak_test1/marconi/SBoard/Annotations.mat ..., downloading\n",
      "http://resources.mpi-inf.mpg.de/marconi/Data/SBoard/Annotations.mat downloaded..\n",
      "Could not find /home/julian/Data/pak_test1/marconi/SBoard/Calibration.dat ..., downloading\n",
      "http://resources.mpi-inf.mpg.de/marconi/Data/SBoard/Calibration.dat downloaded..\n",
      "could not find folder /home/julian/Data/pak_test1/marconi/Soccer2/Images...\n",
      "could not find file /home/julian/Data/pak_test1/marconi/Soccer2/Images.zip\n",
      "download from http://resources.mpi-inf.mpg.de/marconi/Data/Soccer2/Images.zip\n",
      "http://resources.mpi-inf.mpg.de/marconi/Data/Soccer2/Images.zip downloaded..\n",
      "unzip /home/julian/Data/pak_test1/marconi/Soccer2/Images.zip -> /home/julian/Data/pak_test1/marconi/Soccer2\n",
      "could not find folder /home/julian/Data/pak_test1/marconi/Soccer2/CNN_Detections...\n",
      "could not find file /home/julian/Data/pak_test1/marconi/Soccer2/CNN_Detections.zip\n",
      "download from http://resources.mpi-inf.mpg.de/marconi/Data/Soccer2/CNN_Detections.zip\n",
      "http://resources.mpi-inf.mpg.de/marconi/Data/Soccer2/CNN_Detections.zip downloaded..\n",
      "unzip /home/julian/Data/pak_test1/marconi/Soccer2/CNN_Detections.zip -> /home/julian/Data/pak_test1/marconi/Soccer2\n",
      "Could not find /home/julian/Data/pak_test1/marconi/Soccer2/Annotations.mat ..., downloading\n",
      "http://resources.mpi-inf.mpg.de/marconi/Data/Soccer2/Annotations.mat downloaded..\n",
      "Could not find /home/julian/Data/pak_test1/marconi/Soccer2/Calibration.dat ..., downloading\n",
      "http://resources.mpi-inf.mpg.de/marconi/Data/Soccer2/Calibration.dat downloaded..\n",
      "could not find folder /home/julian/Data/pak_test1/marconi/Walk1/Images...\n",
      "could not find file /home/julian/Data/pak_test1/marconi/Walk1/Images.zip\n",
      "download from http://resources.mpi-inf.mpg.de/marconi/Data/Walk1/Images.zip\n",
      "http://resources.mpi-inf.mpg.de/marconi/Data/Walk1/Images.zip downloaded..\n",
      "unzip /home/julian/Data/pak_test1/marconi/Walk1/Images.zip -> /home/julian/Data/pak_test1/marconi/Walk1\n",
      "could not find folder /home/julian/Data/pak_test1/marconi/Walk1/CNN_Detections...\n",
      "could not find file /home/julian/Data/pak_test1/marconi/Walk1/CNN_Detections.zip\n",
      "download from http://resources.mpi-inf.mpg.de/marconi/Data/Walk1/CNN_Detections.zip\n",
      "http://resources.mpi-inf.mpg.de/marconi/Data/Walk1/CNN_Detections.zip downloaded..\n",
      "unzip /home/julian/Data/pak_test1/marconi/Walk1/CNN_Detections.zip -> /home/julian/Data/pak_test1/marconi/Walk1\n",
      "Could not find /home/julian/Data/pak_test1/marconi/Walk1/Annotations.mat ..., downloading\n",
      "http://resources.mpi-inf.mpg.de/marconi/Data/Walk1/Annotations.mat downloaded..\n",
      "Could not find /home/julian/Data/pak_test1/marconi/Walk1/Calibration.dat ..., downloading\n",
      "http://resources.mpi-inf.mpg.de/marconi/Data/Walk1/Calibration.dat downloaded..\n",
      "could not find folder /home/julian/Data/pak_test1/marconi/Walk2/Images...\n",
      "could not find file /home/julian/Data/pak_test1/marconi/Walk2/Images.zip\n",
      "download from http://resources.mpi-inf.mpg.de/marconi/Data/Walk2/Images.zip\n",
      "http://resources.mpi-inf.mpg.de/marconi/Data/Walk2/Images.zip downloaded..\n",
      "unzip /home/julian/Data/pak_test1/marconi/Walk2/Images.zip -> /home/julian/Data/pak_test1/marconi/Walk2\n",
      "could not find folder /home/julian/Data/pak_test1/marconi/Walk2/CNN_Detections...\n",
      "could not find file /home/julian/Data/pak_test1/marconi/Walk2/CNN_Detections.zip\n",
      "download from http://resources.mpi-inf.mpg.de/marconi/Data/Walk2/CNN_Detections.zip\n",
      "http://resources.mpi-inf.mpg.de/marconi/Data/Walk2/CNN_Detections.zip downloaded..\n",
      "unzip /home/julian/Data/pak_test1/marconi/Walk2/CNN_Detections.zip -> /home/julian/Data/pak_test1/marconi/Walk2\n",
      "Could not find /home/julian/Data/pak_test1/marconi/Walk2/Annotations.mat ..., downloading\n",
      "http://resources.mpi-inf.mpg.de/marconi/Data/Walk2/Annotations.mat downloaded..\n",
      "Could not find /home/julian/Data/pak_test1/marconi/Walk2/Calibration.dat ..., downloading\n",
      "http://resources.mpi-inf.mpg.de/marconi/Data/Walk2/Calibration.dat downloaded..\n",
      "could not find folder /home/julian/Data/pak_test1/marconi/Volleyball/Images...\n",
      "could not find file /home/julian/Data/pak_test1/marconi/Volleyball/Images.zip\n",
      "download from http://resources.mpi-inf.mpg.de/marconi/Data/Volleyball/Images.zip\n",
      "http://resources.mpi-inf.mpg.de/marconi/Data/Volleyball/Images.zip downloaded..\n",
      "unzip /home/julian/Data/pak_test1/marconi/Volleyball/Images.zip -> /home/julian/Data/pak_test1/marconi/Volleyball\n",
      "could not find folder /home/julian/Data/pak_test1/marconi/Volleyball/CNN_Detections...\n",
      "could not find file /home/julian/Data/pak_test1/marconi/Volleyball/CNN_Detections.zip\n",
      "download from http://resources.mpi-inf.mpg.de/marconi/Data/Volleyball/CNN_Detections.zip\n",
      "http://resources.mpi-inf.mpg.de/marconi/Data/Volleyball/CNN_Detections.zip downloaded..\n",
      "unzip /home/julian/Data/pak_test1/marconi/Volleyball/CNN_Detections.zip -> /home/julian/Data/pak_test1/marconi/Volleyball\n",
      "Could not find /home/julian/Data/pak_test1/marconi/Volleyball/Annotations.mat ..., downloading\n",
      "http://resources.mpi-inf.mpg.de/marconi/Data/Volleyball/Annotations.mat downloaded..\n",
      "Could not find /home/julian/Data/pak_test1/marconi/Volleyball/Calibration.dat ..., downloading\n",
      "http://resources.mpi-inf.mpg.de/marconi/Data/Volleyball/Calibration.dat downloaded..\n",
      "could not find folder /home/julian/Data/pak_test1/marconi/Juggling/Images...\n",
      "could not find file /home/julian/Data/pak_test1/marconi/Juggling/Images.zip\n",
      "download from http://resources.mpi-inf.mpg.de/marconi/Data/Juggling/Images.zip\n",
      "http://resources.mpi-inf.mpg.de/marconi/Data/Juggling/Images.zip downloaded..\n",
      "unzip /home/julian/Data/pak_test1/marconi/Juggling/Images.zip -> /home/julian/Data/pak_test1/marconi/Juggling\n",
      "could not find folder /home/julian/Data/pak_test1/marconi/Juggling/CNN_Detections...\n",
      "could not find file /home/julian/Data/pak_test1/marconi/Juggling/CNN_Detections.zip\n",
      "download from http://resources.mpi-inf.mpg.de/marconi/Data/Juggling/CNN_Detections.zip\n",
      "http://resources.mpi-inf.mpg.de/marconi/Data/Juggling/CNN_Detections.zip downloaded..\n",
      "unzip /home/julian/Data/pak_test1/marconi/Juggling/CNN_Detections.zip -> /home/julian/Data/pak_test1/marconi/Juggling\n",
      "Could not find /home/julian/Data/pak_test1/marconi/Juggling/Annotations.mat ..., downloading\n",
      "http://resources.mpi-inf.mpg.de/marconi/Data/Juggling/Annotations.mat downloaded..\n",
      "Could not find /home/julian/Data/pak_test1/marconi/Juggling/Calibration.dat ..., downloading\n",
      "http://resources.mpi-inf.mpg.de/marconi/Data/Juggling/Calibration.dat downloaded..\n",
      "could not find folder /home/julian/Data/pak_test1/marconi/Run2/Images...\n",
      "could not find file /home/julian/Data/pak_test1/marconi/Run2/Images.zip\n",
      "download from http://resources.mpi-inf.mpg.de/marconi/Data/Run2/Images.zip\n",
      "http://resources.mpi-inf.mpg.de/marconi/Data/Run2/Images.zip downloaded..\n",
      "unzip /home/julian/Data/pak_test1/marconi/Run2/Images.zip -> /home/julian/Data/pak_test1/marconi/Run2\n",
      "could not find folder /home/julian/Data/pak_test1/marconi/Run2/CNN_Detections...\n",
      "could not find file /home/julian/Data/pak_test1/marconi/Run2/CNN_Detections.zip\n",
      "download from http://resources.mpi-inf.mpg.de/marconi/Data/Run2/CNN_Detections.zip\n",
      "http://resources.mpi-inf.mpg.de/marconi/Data/Run2/CNN_Detections.zip downloaded..\n"
     ]
    },
    {
     "name": "stdout",
     "output_type": "stream",
     "text": [
      "unzip /home/julian/Data/pak_test1/marconi/Run2/CNN_Detections.zip -> /home/julian/Data/pak_test1/marconi/Run2\n",
      "Could not find /home/julian/Data/pak_test1/marconi/Run2/Annotations.mat ..., downloading\n",
      "http://resources.mpi-inf.mpg.de/marconi/Data/Run2/Annotations.mat downloaded..\n",
      "Could not find /home/julian/Data/pak_test1/marconi/Run2/Calibration.dat ..., downloading\n",
      "http://resources.mpi-inf.mpg.de/marconi/Data/Run2/Calibration.dat downloaded..\n"
     ]
    }
   ],
   "source": [
    "%matplotlib inline\n",
    "\n",
    "import sys\n",
    "sys.path.insert(0,'../')\n",
    "from pak import utils\n",
    "from pak.datasets.MARCOnI import MARCOnI\n",
    "import matplotlib.pyplot as plt\n",
    "\n",
    "root = '/home/julian/Data/pak_test1'\n",
    "\n",
    "marconi = MARCOnI(root)"
   ]
  },
  {
   "cell_type": "code",
   "execution_count": null,
   "metadata": {},
   "outputs": [],
   "source": []
  }
 ],
 "metadata": {
  "kernelspec": {
   "display_name": "Python 3",
   "language": "python",
   "name": "python3"
  },
  "language_info": {
   "codemirror_mode": {
    "name": "ipython",
    "version": 3
   },
   "file_extension": ".py",
   "mimetype": "text/x-python",
   "name": "python",
   "nbconvert_exporter": "python",
   "pygments_lexer": "ipython3",
   "version": "3.6.3"
  }
 },
 "nbformat": 4,
 "nbformat_minor": 2
}
