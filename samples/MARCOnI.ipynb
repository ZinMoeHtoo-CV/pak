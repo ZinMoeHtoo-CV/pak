{
 "cells": [
  {
   "cell_type": "markdown",
   "metadata": {},
   "source": [
    "# MARCOnI\n",
    "\n",
    "Original website: http://marconi.mpi-inf.mpg.de "
   ]
  },
  {
   "cell_type": "code",
   "execution_count": 1,
   "metadata": {
    "scrolled": false
   },
   "outputs": [
    {
     "name": "stdout",
     "output_type": "stream",
     "text": [
      "/home/julian/Data/pak_test1/marconi/Soccer/Images found :)\n",
      "/home/julian/Data/pak_test1/marconi/Soccer/CNN_Detections found :)\n",
      "File /home/julian/Data/pak_test1/marconi/Soccer/Annotations.mat found :)\n",
      "File /home/julian/Data/pak_test1/marconi/Soccer/Calibration.dat found :)\n",
      "/home/julian/Data/pak_test1/marconi/Kickbox/Images found :)\n",
      "/home/julian/Data/pak_test1/marconi/Kickbox/CNN_Detections found :)\n",
      "File /home/julian/Data/pak_test1/marconi/Kickbox/Annotations.mat found :)\n",
      "File /home/julian/Data/pak_test1/marconi/Kickbox/Calibration.dat found :)\n",
      "/home/julian/Data/pak_test1/marconi/SBoard/Images found :)\n",
      "/home/julian/Data/pak_test1/marconi/SBoard/CNN_Detections found :)\n",
      "File /home/julian/Data/pak_test1/marconi/SBoard/Annotations.mat found :)\n",
      "File /home/julian/Data/pak_test1/marconi/SBoard/Calibration.dat found :)\n",
      "/home/julian/Data/pak_test1/marconi/Soccer2/Images found :)\n",
      "/home/julian/Data/pak_test1/marconi/Soccer2/CNN_Detections found :)\n",
      "File /home/julian/Data/pak_test1/marconi/Soccer2/Annotations.mat found :)\n",
      "File /home/julian/Data/pak_test1/marconi/Soccer2/Calibration.dat found :)\n",
      "/home/julian/Data/pak_test1/marconi/Walk1/Images found :)\n",
      "/home/julian/Data/pak_test1/marconi/Walk1/CNN_Detections found :)\n",
      "File /home/julian/Data/pak_test1/marconi/Walk1/Annotations.mat found :)\n",
      "File /home/julian/Data/pak_test1/marconi/Walk1/Calibration.dat found :)\n",
      "/home/julian/Data/pak_test1/marconi/Walk2/Images found :)\n",
      "/home/julian/Data/pak_test1/marconi/Walk2/CNN_Detections found :)\n",
      "File /home/julian/Data/pak_test1/marconi/Walk2/Annotations.mat found :)\n",
      "File /home/julian/Data/pak_test1/marconi/Walk2/Calibration.dat found :)\n",
      "/home/julian/Data/pak_test1/marconi/Volleyball/Images found :)\n",
      "/home/julian/Data/pak_test1/marconi/Volleyball/CNN_Detections found :)\n",
      "File /home/julian/Data/pak_test1/marconi/Volleyball/Annotations.mat found :)\n",
      "File /home/julian/Data/pak_test1/marconi/Volleyball/Calibration.dat found :)\n",
      "/home/julian/Data/pak_test1/marconi/Juggling/Images found :)\n",
      "/home/julian/Data/pak_test1/marconi/Juggling/CNN_Detections found :)\n",
      "File /home/julian/Data/pak_test1/marconi/Juggling/Annotations.mat found :)\n",
      "File /home/julian/Data/pak_test1/marconi/Juggling/Calibration.dat found :)\n",
      "/home/julian/Data/pak_test1/marconi/Run2/Images found :)\n",
      "/home/julian/Data/pak_test1/marconi/Run2/CNN_Detections found :)\n",
      "File /home/julian/Data/pak_test1/marconi/Run2/Annotations.mat found :)\n",
      "File /home/julian/Data/pak_test1/marconi/Run2/Calibration.dat found :)\n"
     ]
    }
   ],
   "source": [
    "%matplotlib inline\n",
    "\n",
    "import sys\n",
    "sys.path.insert(0,'../')\n",
    "from pak import utils\n",
    "from pak.datasets.MARCOnI import MARCOnI\n",
    "import matplotlib.pyplot as plt\n",
    "\n",
    "root = '/home/julian/Data/pak_test1'\n",
    "\n",
    "marconi = MARCOnI(root)"
   ]
  },
  {
   "cell_type": "code",
   "execution_count": null,
   "metadata": {},
   "outputs": [],
   "source": []
  }
 ],
 "metadata": {
  "kernelspec": {
   "display_name": "Python 3",
   "language": "python",
   "name": "python3"
  },
  "language_info": {
   "codemirror_mode": {
    "name": "ipython",
    "version": 3
   },
   "file_extension": ".py",
   "mimetype": "text/x-python",
   "name": "python",
   "nbconvert_exporter": "python",
   "pygments_lexer": "ipython3",
   "version": "3.6.3"
  }
 },
 "nbformat": 4,
 "nbformat_minor": 2
}
