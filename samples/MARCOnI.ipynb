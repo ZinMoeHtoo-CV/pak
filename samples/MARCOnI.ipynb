{
 "cells": [
  {
   "cell_type": "markdown",
   "metadata": {},
   "source": [
    "# MARCOnI\n",
    "\n",
    "Original website: http://marconi.mpi-inf.mpg.de "
   ]
  },
  {
   "cell_type": "code",
   "execution_count": 1,
   "metadata": {
    "scrolled": false
   },
   "outputs": [
    {
     "name": "stdout",
     "output_type": "stream",
     "text": [
      "(MARCOnl)\n",
      "\tSoccer finished\n",
      "\tKickbox finished\n",
      "\tSBoard finished\n",
      "\tSoccer2 finished\n",
      "\tWalk1 finished\n",
      "\tWalk2 finished\n",
      "\tVolleyball finished\n",
      "\tJuggling finished\n",
      "\tRun2 finished\n"
     ]
    }
   ],
   "source": [
    "%matplotlib inline\n",
    "import matplotlib.pyplot as plt\n",
    "import sys\n",
    "sys.path.insert(0,'../')\n",
    "from pak import utils\n",
    "from pak.datasets.MARCOnI import MARCOnI\n",
    "import matplotlib.pyplot as plt\n",
    "\n",
    "root = '/home/julian/Data/pak_test1'\n",
    "\n",
    "marconi = MARCOnI(root)\n",
    "\n",
    "X, CNN = marconi['Soccer']"
   ]
  },
  {
   "cell_type": "code",
   "execution_count": 4,
   "metadata": {},
   "outputs": [
    {
     "name": "stdout",
     "output_type": "stream",
     "text": [
      "(5, 510, 360, 640, 14)\n"
     ]
    },
    {
     "data": {
      "text/plain": [
       "<matplotlib.image.AxesImage at 0x7f9c984567b8>"
      ]
     },
     "execution_count": 4,
     "metadata": {},
     "output_type": "execute_result"
    },
    {
     "data": {
      "image/png": "[encoded data removed]",
      "text/plain": [
       "<matplotlib.figure.Figure at 0x7f9c98df6470>"
      ]
     },
     "metadata": {},
     "output_type": "display_data"
    }
   ],
   "source": [
    "print(CNN.shape)\n",
    "\n",
    "a = CNN[0,0,:,:,0]\n",
    "\n",
    "plt.imshow(a)"
   ]
  }
 ],
 "metadata": {
  "kernelspec": {
   "display_name": "Python 3",
   "language": "python",
   "name": "python3"
  },
  "language_info": {
   "codemirror_mode": {
    "name": "ipython",
    "version": 3
   },
   "file_extension": ".py",
   "mimetype": "text/x-python",
   "name": "python",
   "nbconvert_exporter": "python",
   "pygments_lexer": "ipython3",
   "version": "3.6.3"
  }
 },
 "nbformat": 4,
 "nbformat_minor": 2
}
