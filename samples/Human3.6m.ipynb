{
 "cells": [
  {
   "cell_type": "markdown",
   "metadata": {},
   "source": [
    "# Human 3.6m\n",
    "http://vision.imar.ro/human3.6m/description.php"
   ]
  },
  {
   "cell_type": "code",
   "execution_count": 1,
   "metadata": {},
   "outputs": [
    {
     "ename": "NameError",
     "evalue": "name 'V' is not defined",
     "output_type": "error",
     "traceback": [
      "\u001b[0;31m---------------------------------------------------------------------------\u001b[0m",
      "\u001b[0;31mNameError\u001b[0m                                 Traceback (most recent call last)",
      "\u001b[0;32m<ipython-input-1-859d7e10442f>\u001b[0m in \u001b[0;36m<module>\u001b[0;34m\u001b[0m\n\u001b[0;32m----> 1\u001b[0;31m \u001b[0mim\u001b[0m \u001b[0;34m=\u001b[0m \u001b[0mV\u001b[0m\u001b[0;34m[\u001b[0m\u001b[0;36m1\u001b[0m\u001b[0;34m,\u001b[0m \u001b[0;36m0\u001b[0m\u001b[0;34m]\u001b[0m\u001b[0;34m\u001b[0m\u001b[0;34m\u001b[0m\u001b[0m\n\u001b[0m\u001b[1;32m      2\u001b[0m \u001b[0mplt\u001b[0m\u001b[0;34m.\u001b[0m\u001b[0mimshow\u001b[0m\u001b[0;34m(\u001b[0m\u001b[0mim\u001b[0m\u001b[0;34m)\u001b[0m\u001b[0;34m\u001b[0m\u001b[0;34m\u001b[0m\u001b[0m\n",
      "\u001b[0;31mNameError\u001b[0m: name 'V' is not defined"
     ]
    }
   ],
   "source": [
    "im = V[1, 0]\n",
    "plt.imshow(im)"
   ]
  },
  {
   "cell_type": "code",
   "execution_count": null,
   "metadata": {},
   "outputs": [],
   "source": [
    "V = human36m.load_videos('S11', 'Walking', 0)"
   ]
  },
  {
   "cell_type": "code",
   "execution_count": null,
   "metadata": {},
   "outputs": [],
   "source": [
    "Actions = [\n",
    "    'Discussion', 'Eating', 'Greeting',\n",
    "    'Phoning', 'Photo', 'Posing', 'Purchases', 'Sitting',\n",
    "    'Sitting', 'SittingDown', 'Smoking', 'Waiting', 'WalkDog',\n",
    "    'Walking', 'WalkTogether'\n",
    "]\n",
    "\n",
    "for action in Actions:\n",
    "    for actor in ['S9', 'S11']:\n",
    "        for sa in [0, 1]:\n",
    "            print('\\n==========================')\n",
    "            print('handle ', (actor, action, sa))\n",
    "            print('---------------------------')\n",
    "            V = human36m.load_videos(actor, action, sa)\n",
    "            del V\n",
    "\n",
    "len(Actions)"
   ]
  },
  {
   "cell_type": "code",
   "execution_count": null,
   "metadata": {},
   "outputs": [],
   "source": [
    "# import cv2\n",
    "\n",
    "# path = human36m.root + '/S1/Videos/_ALL.54138969.mp4'\n",
    "\n",
    "# Im = []\n",
    "# v = cv2.VideoCapture(path)\n",
    "# while True:\n",
    "#     ret, im = v.read()\n",
    "#     Im.append(im)\n",
    "#     print(ret)\n",
    "#     if not ret:\n",
    "#         break"
   ]
  },
  {
   "cell_type": "code",
   "execution_count": 2,
   "metadata": {},
   "outputs": [
    {
     "name": "stdout",
     "output_type": "stream",
     "text": [
      "This unreleased version of SpacePy is not supported by the SpacePy team.\n"
     ]
    },
    {
     "name": "stderr",
     "output_type": "stream",
     "text": [
      "/home/tanke/anaconda3/lib/python3.7/site-packages/spacepy/pycdf/__init__.py:1360: DeprecationWarning: Using or importing the ABCs from 'collections' instead of from 'collections.abc' is deprecated, and in 3.8 it will stop working\n",
      "  class CDF(collections.MutableMapping):\n"
     ]
    },
    {
     "ename": "FileNotFoundError",
     "evalue": "[Errno 2] No such file or directory: '/home/tanke/Local_Data/datasets/human3.6m/S7/MyPoseFeatures/RawAngles'",
     "output_type": "error",
     "traceback": [
      "\u001b[0;31m---------------------------------------------------------------------------\u001b[0m",
      "\u001b[0;31mFileNotFoundError\u001b[0m                         Traceback (most recent call last)",
      "\u001b[0;32m<ipython-input-2-48feb3513f26>\u001b[0m in \u001b[0;36m<module>\u001b[0;34m\u001b[0m\n\u001b[1;32m     18\u001b[0m \u001b[0mperson\u001b[0m \u001b[0;34m=\u001b[0m \u001b[0;34m'S7'\u001b[0m\u001b[0;34m\u001b[0m\u001b[0;34m\u001b[0m\u001b[0m\n\u001b[1;32m     19\u001b[0m \u001b[0maction\u001b[0m \u001b[0;34m=\u001b[0m \u001b[0;34m'Walking'\u001b[0m\u001b[0;34m\u001b[0m\u001b[0;34m\u001b[0m\u001b[0m\n\u001b[0;32m---> 20\u001b[0;31m \u001b[0mangles\u001b[0m \u001b[0;34m=\u001b[0m \u001b[0mhuman36m\u001b[0m\u001b[0;34m.\u001b[0m\u001b[0mget_raw_angles\u001b[0m\u001b[0;34m(\u001b[0m\u001b[0mperson\u001b[0m\u001b[0;34m,\u001b[0m \u001b[0maction\u001b[0m\u001b[0;34m)\u001b[0m\u001b[0;34m\u001b[0m\u001b[0;34m\u001b[0m\u001b[0m\n\u001b[0m\u001b[1;32m     21\u001b[0m \u001b[0;34m\u001b[0m\u001b[0m\n\u001b[1;32m     22\u001b[0m \u001b[0mprint\u001b[0m\u001b[0;34m(\u001b[0m\u001b[0mangles\u001b[0m\u001b[0;34m.\u001b[0m\u001b[0mshape\u001b[0m\u001b[0;34m)\u001b[0m\u001b[0;34m\u001b[0m\u001b[0;34m\u001b[0m\u001b[0m\n",
      "\u001b[0;32m~/Dev/pak/pak/datasets/human36m.py\u001b[0m in \u001b[0;36mget_raw_angles\u001b[0;34m(self, actor, action, sub_action)\u001b[0m\n\u001b[1;32m    243\u001b[0m         \"\"\"\n\u001b[1;32m    244\u001b[0m         cdf_file = self.get_cdf_file('RawAngles',\n\u001b[0;32m--> 245\u001b[0;31m                                      actor, action, sub_action)\n\u001b[0m\u001b[1;32m    246\u001b[0m         \u001b[0mcdf\u001b[0m \u001b[0;34m=\u001b[0m \u001b[0mpycdf\u001b[0m\u001b[0;34m.\u001b[0m\u001b[0mCDF\u001b[0m\u001b[0;34m(\u001b[0m\u001b[0mcdf_file\u001b[0m\u001b[0;34m)\u001b[0m\u001b[0;34m\u001b[0m\u001b[0;34m\u001b[0m\u001b[0m\n\u001b[1;32m    247\u001b[0m         \u001b[0mangles3d\u001b[0m \u001b[0;34m=\u001b[0m \u001b[0mnp\u001b[0m\u001b[0;34m.\u001b[0m\u001b[0msqueeze\u001b[0m\u001b[0;34m(\u001b[0m\u001b[0mcdf\u001b[0m\u001b[0;34m[\u001b[0m\u001b[0;34m'Pose'\u001b[0m\u001b[0;34m]\u001b[0m\u001b[0;34m)\u001b[0m\u001b[0;34m\u001b[0m\u001b[0;34m\u001b[0m\u001b[0m\n",
      "\u001b[0;32m~/Dev/pak/pak/datasets/human36m.py\u001b[0m in \u001b[0;36mget_cdf_file\u001b[0;34m(self, type, actor, action, sub_action)\u001b[0m\n\u001b[1;32m    188\u001b[0m \u001b[0;34m\u001b[0m\u001b[0m\n\u001b[1;32m    189\u001b[0m         videos = sorted(\n\u001b[0;32m--> 190\u001b[0;31m             [f for f in listdir(cdf_dir) if f.startswith(action)])\n\u001b[0m\u001b[1;32m    191\u001b[0m \u001b[0;34m\u001b[0m\u001b[0m\n\u001b[1;32m    192\u001b[0m         \u001b[0;32mif\u001b[0m \u001b[0;34m(\u001b[0m\u001b[0mactor\u001b[0m \u001b[0;34m==\u001b[0m \u001b[0;34m'S1'\u001b[0m \u001b[0;32mand\u001b[0m \u001b[0maction\u001b[0m \u001b[0;34m==\u001b[0m \u001b[0;34m'Walking'\u001b[0m\u001b[0;34m)\u001b[0m \u001b[0;32mor\u001b[0m\u001b[0;31m \u001b[0m\u001b[0;31m\\\u001b[0m\u001b[0;34m\u001b[0m\u001b[0;34m\u001b[0m\u001b[0m\n",
      "\u001b[0;31mFileNotFoundError\u001b[0m: [Errno 2] No such file or directory: '/home/tanke/Local_Data/datasets/human3.6m/S7/MyPoseFeatures/RawAngles'"
     ]
    }
   ],
   "source": [
    "%matplotlib inline\n",
    "import matplotlib.pyplot as plt\n",
    "from mpl_toolkits.mplot3d import Axes3D\n",
    "import json; from pprint import pprint\n",
    "Settings = json.load(open('settings.txt'))\n",
    "import matplotlib.pyplot as plt\n",
    "import numpy as np\n",
    "import sys\n",
    "sys.path.insert(0,'../')\n",
    "from os.path import isdir\n",
    "\n",
    "root = Settings['h3.6m_root']\n",
    "\n",
    "from pak.datasets.human36m import Human36m\n",
    "\n",
    "human36m = Human36m(root)\n",
    "\n",
    "person = 'S7'\n",
    "action = 'Walking'\n",
    "angles = human36m.get_raw_angles(person, action)\n",
    "\n",
    "print(angles.shape)\n",
    "\n",
    "video = human36m.get_3d(person, action)\n",
    "\n",
    "human = video[1000]\n",
    "\n",
    "fig = plt.figure(figsize=(12, 12))\n",
    "ax = fig.add_subplot(111, projection='3d')\n",
    "ax.set_xlabel(\"x\")\n",
    "ax.set_ylabel(\"y\")\n",
    "ax.set_zlabel(\"z\")\n",
    "#ax.set_aspect('equal')\n",
    "# ax.set_xlim([-750, 750])\n",
    "# ax.set_ylim([-1000, 500])\n",
    "# ax.set_zlim([4800, 5800])\n",
    "\n",
    "human36m.plot_human3d(ax, human)\n",
    "\n",
    "plt.show()"
   ]
  },
  {
   "cell_type": "code",
   "execution_count": null,
   "metadata": {},
   "outputs": [],
   "source": [
    "n, _, _ = video.shape\n",
    "\n",
    "M = []\n",
    "for f in range(n):\n",
    "    pose = video[f]\n",
    "    min_y = min(pose[:, 2])\n",
    "    #min_y = pose[:, 2]\n",
    "    M.append(min_y)\n",
    "    \n",
    "fig = plt.figure(figsize=(12, 8))\n",
    "ax = fig.add_subplot(111)\n",
    "ax.plot(range(n), M)\n",
    "plt.show()"
   ]
  },
  {
   "cell_type": "code",
   "execution_count": null,
   "metadata": {},
   "outputs": [],
   "source": [
    "n, _, _ = video.shape\n",
    "\n",
    "L = []\n",
    "R = []\n",
    "for f in range(n):\n",
    "    pose = video[f]\n",
    "    L.append(pose[8,2])\n",
    "    R.append(pose[3,2])\n",
    "    \n",
    "fig = plt.figure(figsize=(12, 8))\n",
    "ax = fig.add_subplot(111)\n",
    "ax.plot(range(n), L)\n",
    "ax.plot(range(n), R)\n",
    "plt.show()"
   ]
  }
 ],
 "metadata": {
  "kernelspec": {
   "display_name": "Python 3",
   "language": "python",
   "name": "python3"
  },
  "language_info": {
   "codemirror_mode": {
    "name": "ipython",
    "version": 3
   },
   "file_extension": ".py",
   "mimetype": "text/x-python",
   "name": "python",
   "nbconvert_exporter": "python",
   "pygments_lexer": "ipython3",
   "version": "3.7.3"
  }
 },
 "nbformat": 4,
 "nbformat_minor": 2
}
