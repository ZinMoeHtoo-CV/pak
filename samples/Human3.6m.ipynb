{
 "cells": [
  {
   "cell_type": "markdown",
   "metadata": {},
   "source": [
    "# Human 3.6m\n",
    "http://vision.imar.ro/human3.6m/description.php"
   ]
  },
  {
   "cell_type": "code",
   "execution_count": null,
   "metadata": {},
   "outputs": [],
   "source": [
    "im = V[1, 0]\n",
    "plt.imshow(im)"
   ]
  },
  {
   "cell_type": "code",
   "execution_count": null,
   "metadata": {},
   "outputs": [],
   "source": [
    "V = human36m.load_videos('S11', 'Walking', 0)"
   ]
  },
  {
   "cell_type": "code",
   "execution_count": null,
   "metadata": {},
   "outputs": [],
   "source": [
    "Actions = [\n",
    "    'Discussion', 'Eating', 'Greeting',\n",
    "    'Phoning', 'Photo', 'Posing', 'Purchases', 'Sitting',\n",
    "    'Sitting', 'SittingDown', 'Smoking', 'Waiting', 'WalkDog',\n",
    "    'Walking', 'WalkTogether'\n",
    "]\n",
    "\n",
    "for action in Actions:\n",
    "    for actor in ['S9', 'S11']:\n",
    "        for sa in [0, 1]:\n",
    "            print('\\n==========================')\n",
    "            print('handle ', (actor, action, sa))\n",
    "            print('---------------------------')\n",
    "            V = human36m.load_videos(actor, action, sa)\n",
    "            del V\n",
    "\n",
    "len(Actions)"
   ]
  },
  {
   "cell_type": "code",
   "execution_count": null,
   "metadata": {},
   "outputs": [],
   "source": [
    "# import cv2\n",
    "\n",
    "# path = human36m.root + '/S1/Videos/_ALL.54138969.mp4'\n",
    "\n",
    "# Im = []\n",
    "# v = cv2.VideoCapture(path)\n",
    "# while True:\n",
    "#     ret, im = v.read()\n",
    "#     Im.append(im)\n",
    "#     print(ret)\n",
    "#     if not ret:\n",
    "#         break"
   ]
  },
  {
   "cell_type": "code",
   "execution_count": null,
   "metadata": {},
   "outputs": [],
   "source": [
    "%matplotlib inline\n",
    "import matplotlib.pyplot as plt\n",
    "from mpl_toolkits.mplot3d import Axes3D\n",
    "import json; from pprint import pprint\n",
    "Settings = json.load(open('settings.txt'))\n",
    "import matplotlib.pyplot as plt\n",
    "import numpy as np\n",
    "import sys\n",
    "sys.path.insert(0,'../')\n",
    "from os.path import isdir\n",
    "\n",
    "root = Settings['h3.6m_root']\n",
    "\n",
    "from pak.datasets.human36m import Human36m\n",
    "\n",
    "human36m = Human36m(root)\n",
    "\n",
    "person = 'S7'\n",
    "action = 'Walking'\n",
    "angles = human36m.get_raw_angles(person, action)\n",
    "\n",
    "print(angles.shape)\n",
    "\n",
    "video = human36m.get_3d(person, action)\n",
    "\n",
    "human = video[1000]\n",
    "\n",
    "fig = plt.figure(figsize=(12, 12))\n",
    "ax = fig.add_subplot(111, projection='3d')\n",
    "ax.set_xlabel(\"x\")\n",
    "ax.set_ylabel(\"y\")\n",
    "ax.set_zlabel(\"z\")\n",
    "#ax.set_aspect('equal')\n",
    "# ax.set_xlim([-750, 750])\n",
    "# ax.set_ylim([-1000, 500])\n",
    "# ax.set_zlim([4800, 5800])\n",
    "\n",
    "human36m.plot_human3d(ax, human)\n",
    "\n",
    "plt.show()"
   ]
  },
  {
   "cell_type": "code",
   "execution_count": null,
   "metadata": {},
   "outputs": [],
   "source": [
    "n, _, _ = video.shape\n",
    "\n",
    "M = []\n",
    "for f in range(n):\n",
    "    pose = video[f]\n",
    "    min_y = min(pose[:, 2])\n",
    "    #min_y = pose[:, 2]\n",
    "    M.append(min_y)\n",
    "    \n",
    "fig = plt.figure(figsize=(12, 8))\n",
    "ax = fig.add_subplot(111)\n",
    "ax.plot(range(n), M)\n",
    "plt.show()"
   ]
  },
  {
   "cell_type": "code",
   "execution_count": null,
   "metadata": {},
   "outputs": [],
   "source": [
    "n, _, _ = video.shape\n",
    "\n",
    "L = []\n",
    "R = []\n",
    "for f in range(n):\n",
    "    pose = video[f]\n",
    "    L.append(pose[8,2])\n",
    "    R.append(pose[3,2])\n",
    "    \n",
    "fig = plt.figure(figsize=(12, 8))\n",
    "ax = fig.add_subplot(111)\n",
    "ax.plot(range(n), L)\n",
    "ax.plot(range(n), R)\n",
    "plt.show()"
   ]
  }
 ],
 "metadata": {
  "kernelspec": {
   "display_name": "Python 3",
   "language": "python",
   "name": "python3"
  },
  "language_info": {
   "codemirror_mode": {
    "name": "ipython",
    "version": 3
   },
   "file_extension": ".py",
   "mimetype": "text/x-python",
   "name": "python",
   "nbconvert_exporter": "python",
   "pygments_lexer": "ipython3",
   "version": "3.6.6"
  }
 },
 "nbformat": 4,
 "nbformat_minor": 2
}
