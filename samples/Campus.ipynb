{
 "cells": [
  {
   "cell_type": "markdown",
   "metadata": {},
   "source": [
    "# Multiple-View Multiple People Campus\n",
    "\n",
    "Dataset: https://cvlab.epfl.ch/cms/site/cvlab2/lang/en/data/pom"
   ]
  },
  {
   "cell_type": "code",
   "execution_count": 1,
   "metadata": {},
   "outputs": [
    {
     "name": "stdout",
     "output_type": "stream",
     "text": [
      "/storage/DATA/pak\n",
      "[EPFL Campus] get sequence 1\n",
      "\tload campus4-c0.avi\n",
      "\tfinish loading campus4-c0.avi\n",
      "\tload campus4-c1.avi\n",
      "\tfinish loading campus4-c1.avi\n",
      "\tload campus4-c2.avi\n",
      "\tfinish loading campus4-c2.avi\n",
      "elapsed 7.967538118362427\n"
     ]
    }
   ],
   "source": [
    "%matplotlib inline\n",
    "import json; from pprint import pprint\n",
    "Settings = json.load(open('settings.txt'))\n",
    "import matplotlib.pyplot as plt\n",
    "import numpy as np\n",
    "import sys\n",
    "sys.path.insert(0,'../')\n",
    "from pak.datasets.EPFL_Campus import EPFL_Campus\n",
    "from time import time\n",
    "\n",
    "root = Settings['data_root']\n",
    "print(root)\n",
    "\n",
    "campus = EPFL_Campus(root)\n",
    "_start = time()\n",
    "X = campus.get_sequence(1)\n",
    "_end = time()\n",
    "print(\"elapsed\", _end - _start)"
   ]
  },
  {
   "cell_type": "code",
   "execution_count": 2,
   "metadata": {},
   "outputs": [
    {
     "data": {
      "text/plain": [
       "(3, 1720, 288, 360, 3)"
      ]
     },
     "execution_count": 2,
     "metadata": {},
     "output_type": "execute_result"
    }
   ],
   "source": [
    "X.shape"
   ]
  },
  {
   "cell_type": "code",
   "execution_count": 51,
   "metadata": {},
   "outputs": [
    {
     "data": {
      "text/plain": [
       "array([[4.56127736, 4.72012055, 0.10962144],\n",
       "       [4.52701847, 4.77617411, 0.56936157],\n",
       "       [4.50177216, 4.81236764, 0.99807896],\n",
       "       [4.65162405, 4.62817535, 0.98827207],\n",
       "       [4.59060271, 4.54984679, 0.61505225],\n",
       "       [4.64202238, 4.53763264, 0.10808785],\n",
       "       [4.65986909, 4.53321953, 1.49017557],\n",
       "       [4.41138455, 4.74575785, 1.36107684],\n",
       "       [4.50051381, 4.84549134, 1.62555321],\n",
       "       [4.74436433, 4.60684648, 1.61356641],\n",
       "       [4.63898931, 4.53310705, 1.38391248],\n",
       "       [4.4824361 , 4.76976995, 1.5108339 ],\n",
       "       [4.60668743, 4.74172287, 1.69871346],\n",
       "       [4.59426242, 4.72208613, 2.00172544]])"
      ]
     },
     "execution_count": 51,
     "metadata": {},
     "output_type": "execute_result"
    }
   ],
   "source": [
    "from scipy.io import loadmat\n",
    "\n",
    "M = loadmat('actorsGT.mat')\n",
    "\n",
    "Actor3d = M['actor3D'][0]\n",
    "\n",
    "persons = []\n",
    "\n",
    "for pid in range(3):\n",
    "    pts = []\n",
    "    Person = Actor3d[pid]\n",
    "    n = len(Person)\n",
    "    for frame in range(n):\n",
    "        pose = Person[frame][0]\n",
    "        if len(pose) == 1:\n",
    "            pts.append(None)\n",
    "        elif len(pose) == 14:\n",
    "            pts.append(pose)\n",
    "        else:\n",
    "            raise ValueError(\"Weird pose length:\" + str(pose))\n",
    "\n",
    "    persons.append(pts)\n",
    "\n",
    "\n",
    "persons[0][900]"
   ]
  }
 ],
 "metadata": {
  "kernelspec": {
   "display_name": "Python 3",
   "language": "python",
   "name": "python3"
  },
  "language_info": {
   "codemirror_mode": {
    "name": "ipython",
    "version": 3
   },
   "file_extension": ".py",
   "mimetype": "text/x-python",
   "name": "python",
   "nbconvert_exporter": "python",
   "pygments_lexer": "ipython3",
   "version": "3.6.5"
  }
 },
 "nbformat": 4,
 "nbformat_minor": 2
}
