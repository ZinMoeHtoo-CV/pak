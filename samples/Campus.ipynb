{
 "cells": [
  {
   "cell_type": "markdown",
   "metadata": {},
   "source": [
    "# Multiple-View Multiple People Campus\n",
    "\n",
    "Dataset: https://cvlab.epfl.ch/cms/site/cvlab2/lang/en/data/pom"
   ]
  },
  {
   "cell_type": "code",
   "execution_count": 1,
   "metadata": {},
   "outputs": [
    {
     "name": "stdout",
     "output_type": "stream",
     "text": [
      "/storage/DATA/pak\n",
      "[EPFL Campus] get sequence 1\n",
      "\tload campus4-c0.avi\n",
      "\tfinish loading campus4-c0.avi\n",
      "\tload campus4-c1.avi\n",
      "\tfinish loading campus4-c1.avi\n",
      "\tload campus4-c2.avi\n",
      "\tfinish loading campus4-c2.avi\n",
      "elapsed 7.967538118362427\n"
     ]
    }
   ],
   "source": [
    "%matplotlib inline\n",
    "import json; from pprint import pprint\n",
    "Settings = json.load(open('settings.txt'))\n",
    "import matplotlib.pyplot as plt\n",
    "import numpy as np\n",
    "import sys\n",
    "sys.path.insert(0,'../')\n",
    "from pak.datasets.EPFL_Campus import EPFL_Campus\n",
    "from time import time\n",
    "\n",
    "root = Settings['data_root']\n",
    "print(root)\n",
    "\n",
    "campus = EPFL_Campus(root)\n",
    "_start = time()\n",
    "X = campus.get_sequence(1)\n",
    "_end = time()\n",
    "print(\"elapsed\", _end - _start)"
   ]
  },
  {
   "cell_type": "code",
   "execution_count": 2,
   "metadata": {},
   "outputs": [
    {
     "data": {
      "text/plain": [
       "(3, 1720, 288, 360, 3)"
      ]
     },
     "execution_count": 2,
     "metadata": {},
     "output_type": "execute_result"
    }
   ],
   "source": [
    "X.shape"
   ]
  },
  {
   "cell_type": "code",
   "execution_count": null,
   "metadata": {},
   "outputs": [],
   "source": []
  }
 ],
 "metadata": {
  "kernelspec": {
   "display_name": "Python 3",
   "language": "python",
   "name": "python3"
  },
  "language_info": {
   "codemirror_mode": {
    "name": "ipython",
    "version": 3
   },
   "file_extension": ".py",
   "mimetype": "text/x-python",
   "name": "python",
   "nbconvert_exporter": "python",
   "pygments_lexer": "ipython3",
   "version": "3.6.5"
  }
 },
 "nbformat": 4,
 "nbformat_minor": 2
}
