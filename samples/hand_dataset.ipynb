{
 "cells": [
  {
   "cell_type": "markdown",
   "metadata": {},
   "source": [
    "# Hand Dataset\n",
    "\n",
    "Original website: http://www.robots.ox.ac.uk/~vgg/data/hands/"
   ]
  },
  {
   "cell_type": "code",
   "execution_count": null,
   "metadata": {},
   "outputs": [
    {
     "name": "stdout",
     "output_type": "stream",
     "text": [
      "/home/julian/Data/pak_test1/hand_dataset found :)\n"
     ]
    }
   ],
   "source": [
    "%matplotlib inline\n",
    "\n",
    "import sys\n",
    "sys.path.insert(0,'../')\n",
    "from pak import datasets\n",
    "from pak import utils\n",
    "import matplotlib.pyplot as plt\n",
    "\n",
    "root = '/home/julian/Data/pak_test1'\n",
    "\n",
    "hand = datasets.Hand(root)\n",
    "\n",
    "X_test, Y_test = hand.get_test(make_square=True)\n",
    "print('test dataset loaded')\n",
    "X_train, Y_train = hand.get_train(make_square=True)\n",
    "print('training dataset loaded')\n",
    "X_val, Y_val = hand.get_val(make_square=True)\n",
    "print('validation dataset loaded')"
   ]
  },
  {
   "cell_type": "markdown",
   "metadata": {},
   "source": [
    "## Y"
   ]
  },
  {
   "cell_type": "code",
   "execution_count": null,
   "metadata": {},
   "outputs": [],
   "source": [
    "frame = 1\n",
    "\n",
    "import numpy as np\n",
    "\n",
    "fig = plt.figure(figsize=(16,8))\n",
    "\n",
    "def plot_img(ax, X, Y):\n",
    "    ax.imshow(X)\n",
    "    colors = ['red', 'blue', 'yellow', 'green']\n",
    "    for i,y in enumerate(Y):\n",
    "        for pair in y:\n",
    "            ax.scatter(pair[0], pair[1], color=colors[i%len(colors)])\n",
    "\n",
    "plot_img(fig.add_subplot(131), X_test[frame], Y_test[frame])\n",
    "plot_img(fig.add_subplot(132), X_train[frame], Y_train[frame])\n",
    "plot_img(fig.add_subplot(133), X_val[frame], Y_val[frame])\n",
    "plt.show()"
   ]
  }
 ],
 "metadata": {
  "kernelspec": {
   "display_name": "Python 3",
   "language": "python",
   "name": "python3"
  },
  "language_info": {
   "codemirror_mode": {
    "name": "ipython",
    "version": 3
   },
   "file_extension": ".py",
   "mimetype": "text/x-python",
   "name": "python",
   "nbconvert_exporter": "python",
   "pygments_lexer": "ipython3",
   "version": "3.6.3"
  }
 },
 "nbformat": 4,
 "nbformat_minor": 2
}
