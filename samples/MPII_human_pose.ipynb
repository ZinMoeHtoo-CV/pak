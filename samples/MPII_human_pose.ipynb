{
 "cells": [
  {
   "cell_type": "markdown",
   "metadata": {},
   "source": [
    "# MPII Human Pose\n",
    "\n",
    "Original paper: http://citeseerx.ist.psu.edu/viewdoc/download?doi=10.1.1.638.2045&rep=rep1&type=pdf\n",
    "\n",
    "## Y\n",
    "The Y-value has the following structure: $10000\\times 14 \\times 3$. \n",
    "The data contains $14$ joint locations with the following order:\n",
    "* Right ankle\n",
    "* Right knee\n",
    "* Right hip\n",
    "* Left hip\n",
    "* Left knee\n",
    "* Left ankle\n",
    "* Right wrist\n",
    "* Right elbow\n",
    "* Right shoulder\n",
    "* Left shoulder\n",
    "* Left elbow\n",
    "* Left wrist\n",
    "* Neck\n",
    "* Head top\n",
    "\n",
    "Each joint has $3$ values:\n",
    "* X value\n",
    "* Y value\n",
    "* visiblity (1=True, 0=False)"
   ]
  },
  {
   "cell_type": "code",
   "execution_count": 1,
   "metadata": {},
   "outputs": [
    {
     "name": "stdout",
     "output_type": "stream",
     "text": [
      "/home/julian/Data/pak_test1/mpii_human_pose_v1_u12_2 found :)\n",
      "could not find folder /home/julian/Data/pak_test1/mpii_human_pose_v1_u12_2/images...\n",
      "found /home/julian/Data/pak_test1/mpii_human_pose_v1.tar.gz\n",
      "untar /home/julian/Data/pak_test1/mpii_human_pose_v1.tar.gz -> /home/julian/Data/pak_test1\n"
     ]
    }
   ],
   "source": [
    "%matplotlib inline\n",
    "\n",
    "import sys\n",
    "sys.path.insert(0,'../')\n",
    "from pak import datasets\n",
    "from pak import utils\n",
    "import matplotlib.pyplot as plt\n",
    "\n",
    "root = '/home/julian/Data/pak_test1'\n",
    "\n",
    "mpii = datasets.MPII_human_pose(root)\n",
    "\n",
    "# X, Y = mpii.get_raw()\n",
    "\n",
    "# fig = plt.figure(figsize=(16,8))\n",
    "# ax = fig.add_subplot(111)\n",
    "# x = X[0].astype('int32')\n",
    "# gray = (x[:,:,0] + x[:,:,1] + x[:,:,2]) / (255*3)\n",
    "# ax.imshow(gray, cmap='gray')\n",
    "# y = Y[0]\n",
    "# for x,y,v in y:\n",
    "#     if v > 0:\n",
    "#         ax.scatter(x, y, s=600)"
   ]
  }
 ],
 "metadata": {
  "kernelspec": {
   "display_name": "Python 3",
   "language": "python",
   "name": "python3"
  },
  "language_info": {
   "codemirror_mode": {
    "name": "ipython",
    "version": 3
   },
   "file_extension": ".py",
   "mimetype": "text/x-python",
   "name": "python",
   "nbconvert_exporter": "python",
   "pygments_lexer": "ipython3",
   "version": "3.6.3"
  }
 },
 "nbformat": 4,
 "nbformat_minor": 2
}
