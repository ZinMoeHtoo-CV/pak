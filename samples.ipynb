{
 "cells": [
  {
   "cell_type": "code",
   "execution_count": null,
   "metadata": {},
   "outputs": [
    {
     "name": "stdout",
     "output_type": "stream",
     "text": [
      "/home/data/test1/MOT16 found :)\n"
     ]
    }
   ],
   "source": [
    "from pak import datasets\n",
    "\n",
    "mot16 = datasets.MOT16('/home/data/test1', resize=0.5)\n",
    "X, Y_det, Y_gt = mot16.get_train_raw(\"MOT16-02\")"
   ]
  },
  {
   "cell_type": "code",
   "execution_count": 7,
   "metadata": {},
   "outputs": [
    {
     "name": "stdout",
     "output_type": "stream",
     "text": [
      "(600, 540, 960, 3)\n",
      "(7267, 10)\n",
      "(29193, 9)\n"
     ]
    }
   ],
   "source": [
    "print(X.shape)\n",
    "print(Y_det.shape)\n",
    "print(Y_gt.shape)"
   ]
  }
 ],
 "metadata": {
  "kernelspec": {
   "display_name": "Python 3",
   "language": "python",
   "name": "python3"
  },
  "language_info": {
   "codemirror_mode": {
    "name": "ipython",
    "version": 3
   },
   "file_extension": ".py",
   "mimetype": "text/x-python",
   "name": "python",
   "nbconvert_exporter": "python",
   "pygments_lexer": "ipython3",
   "version": "3.6.3"
  }
 },
 "nbformat": 4,
 "nbformat_minor": 2
}
