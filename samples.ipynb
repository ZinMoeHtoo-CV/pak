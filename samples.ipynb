{
 "cells": [
  {
   "cell_type": "code",
   "execution_count": 1,
   "metadata": {},
   "outputs": [
    {
     "name": "stdout",
     "output_type": "stream",
     "text": [
      "/home/data/test1/MOT16 found :)\n",
      "MOT16 X loaded\n",
      "MOT16 Y_det loaded\n",
      "MOT16 Y_gt loaded\n"
     ]
    }
   ],
   "source": [
    "from pak import datasets\n",
    "from pak import utils\n",
    "\n",
    "#mot15 = datasets.MOT152D('/home/data/test1')\n",
    "\n",
    "mot16 = datasets.MOT16('/home/data/test1', resize=0.5)\n",
    "X, Y_det, Y_gt = mot16.get_train_raw(\"MOT16-02\")"
   ]
  },
  {
   "cell_type": "code",
   "execution_count": 3,
   "metadata": {},
   "outputs": [
    {
     "name": "stdout",
     "output_type": "stream",
     "text": [
      "(600, 540, 960, 3)\n",
      "(7267, 10)\n",
      "(29193, 9)\n",
      "[   1.    1.    1. ...,  600.  600.  600.]\n",
      "----\n",
      "(700, 9)\n",
      "(3, 9)\n",
      "[[[  1.00000000e+00   1.00000000e+00   9.12000000e+02   4.84000000e+02\n",
      "     9.70000000e+01   1.09000000e+02   0.00000000e+00   7.00000000e+00\n",
      "     1.00000000e+00]\n",
      "  [  1.00000000e+00   2.00000000e+00   1.33800000e+03   4.18000000e+02\n",
      "     1.67000000e+02   3.79000000e+02   1.00000000e+00   1.00000000e+00\n",
      "     1.00000000e+00]\n",
      "  [  1.00000000e+00   3.00000000e+00   5.86000000e+02   4.47000000e+02\n",
      "     8.50000000e+01   2.63000000e+02   1.00000000e+00   1.00000000e+00\n",
      "     1.00000000e+00]]]\n",
      "(1, 3, 9)\n"
     ]
    }
   ],
   "source": [
    "print(X.shape)\n",
    "print(Y_det.shape)\n",
    "print(Y_gt.shape)\n",
    "\n",
    "print(Y_det[:,0])\n",
    "print('----')\n",
    "\n",
    "\n",
    "Y = Y_gt[0:700,:]\n",
    "print(Y.shape)\n",
    "\n",
    "mask = ((Y[:,0] == 1) * 1).nonzero()[0]\n",
    "\n",
    "Y_sub = Y[mask,:]\n",
    "print(Y_sub.shape)\n",
    "\n",
    "Y_sub2 = utils.extract_eq(Y, col=0, value=1)\n",
    "\n",
    "print(Y_sub2)\n",
    "print(Y_sub2.shape)\n",
    "\n",
    "#utils.plot(X[0:4], cols=2)"
   ]
  }
 ],
 "metadata": {
  "kernelspec": {
   "display_name": "Python 3",
   "language": "python",
   "name": "python3"
  },
  "language_info": {
   "codemirror_mode": {
    "name": "ipython",
    "version": 3
   },
   "file_extension": ".py",
   "mimetype": "text/x-python",
   "name": "python",
   "nbconvert_exporter": "python",
   "pygments_lexer": "ipython3",
   "version": "3.6.3"
  }
 },
 "nbformat": 4,
 "nbformat_minor": 2
}
