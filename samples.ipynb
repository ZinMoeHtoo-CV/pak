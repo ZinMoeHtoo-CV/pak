{
 "cells": [
  {
   "cell_type": "code",
   "execution_count": 1,
   "metadata": {},
   "outputs": [
    {
     "name": "stdout",
     "output_type": "stream",
     "text": [
      "could not find folder /home/data/test1/MOT16...\n"
     ]
    }
   ],
   "source": [
    "from pak import datasets\n",
    "#from pak import utils\n",
    "\n",
    "#a = datasets.Dataset('MOT16', '/home/data/test1')\n",
    "\n",
    "#datasets.test()\n",
    "\n",
    "mot16 = datasets.MOT16('/home/data/test1')\n"
   ]
  }
 ],
 "metadata": {
  "kernelspec": {
   "display_name": "Python 3",
   "language": "python",
   "name": "python3"
  },
  "language_info": {
   "codemirror_mode": {
    "name": "ipython",
    "version": 3
   },
   "file_extension": ".py",
   "mimetype": "text/x-python",
   "name": "python",
   "nbconvert_exporter": "python",
   "pygments_lexer": "ipython3",
   "version": "3.6.3"
  }
 },
 "nbformat": 4,
 "nbformat_minor": 2
}
